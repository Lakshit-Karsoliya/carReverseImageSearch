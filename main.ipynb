{
 "cells": [
  {
   "cell_type": "code",
   "execution_count": null,
   "metadata": {},
   "outputs": [],
   "source": [
    "import numpy as np\n",
    "import os\n",
    "import tensorflow\n",
    "from tensorflow.keras.preprocessing import image\n",
    "from tensorflow.keras.layers import GlobalMaxPooling2D\n",
    "from tensorflow.keras.applications.resnet50 import ResNet50 , preprocess_input\n",
    "from keras.applications.resnet import ResNet\n",
    "from numpy.linalg import norm\n",
    "from tqdm import tqdm\n",
    "import pickle\n",
    "\n"
   ]
  },
  {
   "cell_type": "code",
   "execution_count": null,
   "metadata": {},
   "outputs": [],
   "source": [
    "model = ResNet50(weights='imagenet',include_top=False,input_shape=(224,224,3))\n",
    "model.trainable = False"
   ]
  },
  {
   "cell_type": "code",
   "execution_count": null,
   "metadata": {},
   "outputs": [],
   "source": [
    "model = tensorflow.keras.Sequential([model,GlobalMaxPooling2D()])"
   ]
  },
  {
   "cell_type": "code",
   "execution_count": null,
   "metadata": {},
   "outputs": [],
   "source": [
    "def extract_features(file_path,model):\n",
    "    img = image.load_img(file_path,target_size=(224,224))\n",
    "    img_array = image.img_to_array(img)\n",
    "    expand_img_array = np.expand_dims(img_array,axis=0)\n",
    "    process_image = preprocess_input(expand_img_array)\n",
    "    result = model.predict(process_image).flatten()\n",
    "    normalise_result = result/norm(result)\n",
    "    return normalise_result"
   ]
  },
  {
   "cell_type": "code",
   "execution_count": null,
   "metadata": {},
   "outputs": [],
   "source": [
    "file_names = []\n",
    "for file in os.listdir('archive/cars_test/cars_test/'):\n",
    "    file_names.append(os.path.join('archive/cars_test/cars_test/',file))\n",
    "for file in os.listdir('archive/cars_train/cars_train/'):\n",
    "    file_names.append(os.path.join('archive/cars_train/cars_train/',file))\n"
   ]
  },
  {
   "cell_type": "code",
   "execution_count": null,
   "metadata": {},
   "outputs": [],
   "source": [
    "file_names[0:5]"
   ]
  },
  {
   "cell_type": "code",
   "execution_count": null,
   "metadata": {},
   "outputs": [],
   "source": [
    "feature_list=[]\n",
    "for file in tqdm(file_names):\n",
    "    feature_list.append(extract_features(file,model))"
   ]
  },
  {
   "cell_type": "code",
   "execution_count": null,
   "metadata": {},
   "outputs": [],
   "source": [
    "pickle.dump(file_names,open('file_names.pkl','wb'))\n",
    "pickle.dump(feature_list,open('feature_list.pkl','wb'))"
   ]
  }
 ],
 "metadata": {
  "kernelspec": {
   "display_name": "Python 3",
   "language": "python",
   "name": "python3"
  },
  "language_info": {
   "codemirror_mode": {
    "name": "ipython",
    "version": 3
   },
   "file_extension": ".py",
   "mimetype": "text/x-python",
   "name": "python",
   "nbconvert_exporter": "python",
   "pygments_lexer": "ipython3",
   "version": "3.10.6"
  },
  "orig_nbformat": 4,
  "vscode": {
   "interpreter": {
    "hash": "756c4c8cb8d2da3b6b4383a5b5c83f789d93271e7736f3f4b9a7f4247e6a8991"
   }
  }
 },
 "nbformat": 4,
 "nbformat_minor": 2
}
